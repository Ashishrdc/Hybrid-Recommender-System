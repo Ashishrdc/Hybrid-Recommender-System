{
 "cells": [
  {
   "cell_type": "markdown",
   "metadata": {},
   "source": [
    "#k-NN Machine Learning Model\n",
    "\n",
    "#After loading the data, we can start building our machine learning model to recommend songs. There are many ways to approach this. A simple approach is to use a k Nearest Neighbor model to get the top songs that are closest in distance with the set of feature inputs selected by the user. These “feature inputs” include the genre of interest, release year range (start year and end year), and a set of audio features (acousticness, danceability, energy, instrumentalness, valence, tempo).\n",
    "We can use Sklearn to build the k-NN model and return the top-k results given a test point. To perform the above functions, we write the function n_neighbors_uri_audio , which will return the Spotify URIs and audio feature values of the top neighbors in ascending order of their rank (a point closest to the input features is ranked first).\n"
   ]
  },
  {
   "cell_type": "code",
   "execution_count": 2,
   "metadata": {},
   "outputs": [],
   "source": [
    "import pandas as pd\n",
    "import pickle"
   ]
  },
  {
   "cell_type": "code",
   "execution_count": 3,
   "metadata": {},
   "outputs": [],
   "source": [
    "albums_data = pd.read_csv('spotify_albums.csv')\n",
    "tracks_data = pd.read_csv('spotify_tracks.csv')\n",
    "artist_data = pd.read_csv('spotify_artists.csv')\n"
   ]
  },
  {
   "cell_type": "markdown",
   "metadata": {},
   "source": [
    "`# DATA PREPROCESSING"
   ]
  },
  {
   "cell_type": "markdown",
   "metadata": {},
   "source": [
    "Now, we can join the albums and artists with tracks data. We need to join the album release year and artist genre information with the track data.\n",
    "\n",
    "Drop irrelevant columns "
   ]
  },
  {
   "cell_type": "code",
   "execution_count": 4,
   "metadata": {},
   "outputs": [],
   "source": [
    "def join_genre_and_date(artist_df, album_df, track_df):\n",
    "    album = album_df.rename(columns={'id':\"album_id\"}).set_index('album_id')\n",
    "    artist = artist_df.rename(columns={'id':\"artists_id\",'name':\"artists_name\"}).set_index('artists_id')\n",
    "    track = track_df.set_index('album_id').join(album['release_date'], on='album_id' )\n",
    "    track.artists_id = track.artists_id.apply(lambda x: x[2:-2])\n",
    "    track = track.set_index('artists_id').join(artist[['artists_name','genres']], on='artists_id' )\n",
    "    track.reset_index(drop=False, inplace=True)\n",
    "    track['release_year'] = pd.to_datetime(track.release_date).dt.year\n",
    "    track.drop(columns = ['Unnamed: 0','country','track_name_prev','track_number','type'], inplace = True)\n",
    "  \n",
    "    return track[track.release_year >= 1950]\n",
    "\n",
    "\n",
    "    "
   ]
  },
  {
   "cell_type": "code",
   "execution_count": 5,
   "metadata": {},
   "outputs": [],
   "source": [
    "def get_filtered_track_df(df, genres_to_include):\n",
    "    df['genres'] = df.genres.apply(lambda x: [i[1:-1] for i in str(x)[1:-1].split(\", \")])\n",
    "    df_exploded = df.explode(\"genres\")[df.explode(\"genres\")[\"genres\"].isin(genres_to_include)]\n",
    "    df_exploded.loc[df_exploded[\"genres\"]==\"indian pop\", \"genres\"] = \"pop\"\n",
    "    df_exploded_indices = list(df_exploded.index.unique())\n",
    "    df = df[df.index.isin(df_exploded_indices)]\n",
    "    df = df.reset_index(drop=True)\n",
    "    return df"
   ]
  },
  {
   "cell_type": "code",
   "execution_count": 6,
   "metadata": {},
   "outputs": [
    {
     "data": {
      "text/plain": [
       "\"\\n['indian pop', 'desi', 'bollywood']\\n['desi', 'desi hip hop', 'filmi', 'indian pop', 'modern bollywood', 'sufi']\\n\""
      ]
     },
     "execution_count": 6,
     "metadata": {},
     "output_type": "execute_result"
    }
   ],
   "source": [
    "genres_to_include = genres = ['dance pop', 'electronic', 'electropop', 'hip hop', 'jazz', 'k-pop', 'latin', 'pop', 'pop rap', 'r&b', 'rock']\n",
    "track_with_year_and_genre = join_genre_and_date(artist_data, albums_data, tracks_data)\n",
    "filtered_track_df = get_filtered_track_df(track_with_year_and_genre, genres_to_include)\n",
    "\n",
    "'''\n",
    "['indian pop', 'desi', 'bollywood']\n",
    "['desi', 'desi hip hop', 'filmi', 'indian pop', 'modern bollywood', 'sufi']\n",
    "'''"
   ]
  },
  {
   "cell_type": "code",
   "execution_count": 7,
   "metadata": {},
   "outputs": [],
   "source": [
    "filtered_track_df[\"uri\"] = filtered_track_df[\"uri\"].str.replace(\"spotify:track:\", \"\")\n",
    "filtered_track_df = filtered_track_df.drop(columns=['analysis_url', 'available_markets'])\n"
   ]
  },
  {
   "cell_type": "code",
   "execution_count": 8,
   "metadata": {},
   "outputs": [
    {
     "data": {
      "text/plain": [
       "(372, 30)"
      ]
     },
     "execution_count": 8,
     "metadata": {},
     "output_type": "execute_result"
    }
   ],
   "source": [
    "# Filtering out bollywood songs with modified genre\n",
    "genres_to_include = genres = ['desi', 'desi hip hop', 'filmi', 'indian pop', 'modern bollywood', 'sufi']\n",
    "track_with_year_and_genre = join_genre_and_date(artist_data, albums_data, tracks_data)\n",
    "filtered_track_df_bollywood = get_filtered_track_df(track_with_year_and_genre, genres_to_include)\n",
    "\n",
    "filtered_track_df_bollywood.shape\n"
   ]
  },
  {
   "cell_type": "markdown",
   "metadata": {},
   "source": []
  },
  {
   "cell_type": "code",
   "execution_count": 9,
   "metadata": {},
   "outputs": [],
   "source": [
    "filtered_track_df_bollywood[\"uri\"] = filtered_track_df_bollywood[\"uri\"].str.replace(\"spotify:track:\", \"\")\n",
    "filtered_track_df_bollywood = filtered_track_df_bollywood.drop(columns=['analysis_url', 'available_markets'])"
   ]
  },
  {
   "cell_type": "code",
   "execution_count": 10,
   "metadata": {},
   "outputs": [
    {
     "name": "stderr",
     "output_type": "stream",
     "text": [
      "C:\\Users\\Ashish Chaurasiya.MAVERICK\\AppData\\Local\\Temp\\ipykernel_11972\\3973474770.py:5: SettingWithCopyWarning: \n",
      "A value is trying to be set on a copy of a slice from a DataFrame\n",
      "\n",
      "See the caveats in the documentation: https://pandas.pydata.org/pandas-docs/stable/user_guide/indexing.html#returning-a-view-versus-a-copy\n",
      "  filtered_track_df_bollywood['genres'][i] = replaced\n"
     ]
    }
   ],
   "source": [
    "#filtered_track_df = filtered_track_df.append(filtered_track_df_bollywood, ignore_index=True)\n",
    "replaced = [\"bollywood\", \"pop\"]\n",
    "filtered_track_df_bollywood['genres']\n",
    "for i in range(filtered_track_df_bollywood.genres.size):\n",
    "    filtered_track_df_bollywood['genres'][i] = replaced"
   ]
  },
  {
   "cell_type": "code",
   "execution_count": 11,
   "metadata": {},
   "outputs": [
    {
     "name": "stderr",
     "output_type": "stream",
     "text": [
      "C:\\Users\\Ashish Chaurasiya.MAVERICK\\AppData\\Local\\Temp\\ipykernel_11972\\245713923.py:1: FutureWarning: The frame.append method is deprecated and will be removed from pandas in a future version. Use pandas.concat instead.\n",
      "  filtered_track_df = filtered_track_df.append(filtered_track_df_bollywood, ignore_index=True)\n"
     ]
    },
    {
     "data": {
      "text/plain": [
       "(11047, 28)"
      ]
     },
     "execution_count": 11,
     "metadata": {},
     "output_type": "execute_result"
    }
   ],
   "source": [
    "filtered_track_df = filtered_track_df.append(filtered_track_df_bollywood, ignore_index=True)\n",
    "\n",
    "filtered_track_df.shape\n"
   ]
  },
  {
   "cell_type": "code",
   "execution_count": 20,
   "metadata": {},
   "outputs": [
    {
     "data": {
      "text/html": [
       "<div>\n",
       "<style scoped>\n",
       "    .dataframe tbody tr th:only-of-type {\n",
       "        vertical-align: middle;\n",
       "    }\n",
       "\n",
       "    .dataframe tbody tr th {\n",
       "        vertical-align: top;\n",
       "    }\n",
       "\n",
       "    .dataframe thead th {\n",
       "        text-align: right;\n",
       "    }\n",
       "</style>\n",
       "<table border=\"1\" class=\"dataframe\">\n",
       "  <thead>\n",
       "    <tr style=\"text-align: right;\">\n",
       "      <th></th>\n",
       "      <th>artists_id</th>\n",
       "      <th>acousticness</th>\n",
       "      <th>danceability</th>\n",
       "      <th>disc_number</th>\n",
       "      <th>duration_ms</th>\n",
       "      <th>energy</th>\n",
       "      <th>href</th>\n",
       "      <th>id</th>\n",
       "      <th>instrumentalness</th>\n",
       "      <th>key</th>\n",
       "      <th>...</th>\n",
       "      <th>tempo</th>\n",
       "      <th>time_signature</th>\n",
       "      <th>track_href</th>\n",
       "      <th>uri</th>\n",
       "      <th>valence</th>\n",
       "      <th>release_date</th>\n",
       "      <th>artists_name</th>\n",
       "      <th>genres</th>\n",
       "      <th>release_year</th>\n",
       "      <th>song_artist</th>\n",
       "    </tr>\n",
       "  </thead>\n",
       "  <tbody>\n",
       "    <tr>\n",
       "      <th>0</th>\n",
       "      <td>68WwJXWrpo1yVOOIZjLSeT</td>\n",
       "      <td>0.0268</td>\n",
       "      <td>0.506</td>\n",
       "      <td>1.0</td>\n",
       "      <td>248777.0</td>\n",
       "      <td>0.741</td>\n",
       "      <td>https://api.spotify.com/v1/tracks/0UATU9OJxh4m...</td>\n",
       "      <td>0UATU9OJxh4m3fwDljdGZn</td>\n",
       "      <td>0.000027</td>\n",
       "      <td>1.0</td>\n",
       "      <td>...</td>\n",
       "      <td>94.042</td>\n",
       "      <td>4.0</td>\n",
       "      <td>https://api.spotify.com/v1/tracks/0UATU9OJxh4m...</td>\n",
       "      <td>0UATU9OJxh4m3fwDljdGZn</td>\n",
       "      <td>0.236</td>\n",
       "      <td>2018-09-28</td>\n",
       "      <td>Evalyn</td>\n",
       "      <td>[electropop, indie electro-pop, indie poptimis...</td>\n",
       "      <td>2018</td>\n",
       "      <td>Creme de la creme - Evalyn</td>\n",
       "    </tr>\n",
       "    <tr>\n",
       "      <th>1</th>\n",
       "      <td>09xj0S68Y1OU1vHMCZAIvz</td>\n",
       "      <td>0.5050</td>\n",
       "      <td>0.487</td>\n",
       "      <td>1.0</td>\n",
       "      <td>171573.0</td>\n",
       "      <td>0.297</td>\n",
       "      <td>https://api.spotify.com/v1/tracks/4JH1M62gVDND...</td>\n",
       "      <td>4JH1M62gVDNDhDAUiQB3Qv</td>\n",
       "      <td>0.000052</td>\n",
       "      <td>11.0</td>\n",
       "      <td>...</td>\n",
       "      <td>185.912</td>\n",
       "      <td>3.0</td>\n",
       "      <td>https://api.spotify.com/v1/tracks/4JH1M62gVDND...</td>\n",
       "      <td>4JH1M62gVDNDhDAUiQB3Qv</td>\n",
       "      <td>0.289</td>\n",
       "      <td>2001-08-21</td>\n",
       "      <td>Café Tacvba</td>\n",
       "      <td>[latin, latin alternative, latin rock, mexican...</td>\n",
       "      <td>2001</td>\n",
       "      <td>La muerte chiquita - Café Tacvba</td>\n",
       "    </tr>\n",
       "    <tr>\n",
       "      <th>2</th>\n",
       "      <td>6pSsE5y0uJMwYj83KrPyf9</td>\n",
       "      <td>0.1330</td>\n",
       "      <td>0.629</td>\n",
       "      <td>1.0</td>\n",
       "      <td>207396.0</td>\n",
       "      <td>0.706</td>\n",
       "      <td>https://api.spotify.com/v1/tracks/0h7Ld5CvgzaU...</td>\n",
       "      <td>0h7Ld5CvgzaUN1zA3tdyPq</td>\n",
       "      <td>0.000000</td>\n",
       "      <td>1.0</td>\n",
       "      <td>...</td>\n",
       "      <td>81.220</td>\n",
       "      <td>4.0</td>\n",
       "      <td>https://api.spotify.com/v1/tracks/0h7Ld5CvgzaU...</td>\n",
       "      <td>0h7Ld5CvgzaUN1zA3tdyPq</td>\n",
       "      <td>0.543</td>\n",
       "      <td>2019-01-25</td>\n",
       "      <td>Dawn Richard</td>\n",
       "      <td>[alternative r&amp;b, deep pop r&amp;b, escape room, h...</td>\n",
       "      <td>2019</td>\n",
       "      <td>we, diamonds - Dawn Richard</td>\n",
       "    </tr>\n",
       "    <tr>\n",
       "      <th>3</th>\n",
       "      <td>7slfeZO9LsJbWgpkIoXBUJ</td>\n",
       "      <td>0.4060</td>\n",
       "      <td>0.590</td>\n",
       "      <td>1.0</td>\n",
       "      <td>279000.0</td>\n",
       "      <td>0.597</td>\n",
       "      <td>https://api.spotify.com/v1/tracks/4S1bYWrLOC8s...</td>\n",
       "      <td>4S1bYWrLOC8smuy8kJzxKQ</td>\n",
       "      <td>0.000023</td>\n",
       "      <td>9.0</td>\n",
       "      <td>...</td>\n",
       "      <td>121.051</td>\n",
       "      <td>4.0</td>\n",
       "      <td>https://api.spotify.com/v1/tracks/4S1bYWrLOC8s...</td>\n",
       "      <td>4S1bYWrLOC8smuy8kJzxKQ</td>\n",
       "      <td>0.466</td>\n",
       "      <td>1995-09-12</td>\n",
       "      <td>Ricky Martin</td>\n",
       "      <td>[dance pop, latin, latin pop, mexican pop, pop...</td>\n",
       "      <td>1995</td>\n",
       "      <td>Te Extraño, Te Olvido, Te Amo - Ricky Martin</td>\n",
       "    </tr>\n",
       "    <tr>\n",
       "      <th>4</th>\n",
       "      <td>09hVIj6vWgoCDtT03h8ZCa</td>\n",
       "      <td>0.0316</td>\n",
       "      <td>0.727</td>\n",
       "      <td>1.0</td>\n",
       "      <td>218773.0</td>\n",
       "      <td>0.380</td>\n",
       "      <td>https://api.spotify.com/v1/tracks/758mQT4zzlvB...</td>\n",
       "      <td>758mQT4zzlvBhy9PvNePwC</td>\n",
       "      <td>0.000000</td>\n",
       "      <td>7.0</td>\n",
       "      <td>...</td>\n",
       "      <td>92.050</td>\n",
       "      <td>4.0</td>\n",
       "      <td>https://api.spotify.com/v1/tracks/758mQT4zzlvB...</td>\n",
       "      <td>758mQT4zzlvBhy9PvNePwC</td>\n",
       "      <td>0.455</td>\n",
       "      <td>1991-09-24</td>\n",
       "      <td>A Tribe Called Quest</td>\n",
       "      <td>[alternative hip hop, conscious hip hop, east ...</td>\n",
       "      <td>1991</td>\n",
       "      <td>Butter - A Tribe Called Quest</td>\n",
       "    </tr>\n",
       "  </tbody>\n",
       "</table>\n",
       "<p>5 rows × 29 columns</p>\n",
       "</div>"
      ],
      "text/plain": [
       "               artists_id  acousticness  danceability  disc_number  \\\n",
       "0  68WwJXWrpo1yVOOIZjLSeT        0.0268         0.506          1.0   \n",
       "1  09xj0S68Y1OU1vHMCZAIvz        0.5050         0.487          1.0   \n",
       "2  6pSsE5y0uJMwYj83KrPyf9        0.1330         0.629          1.0   \n",
       "3  7slfeZO9LsJbWgpkIoXBUJ        0.4060         0.590          1.0   \n",
       "4  09hVIj6vWgoCDtT03h8ZCa        0.0316         0.727          1.0   \n",
       "\n",
       "   duration_ms  energy                                               href  \\\n",
       "0     248777.0   0.741  https://api.spotify.com/v1/tracks/0UATU9OJxh4m...   \n",
       "1     171573.0   0.297  https://api.spotify.com/v1/tracks/4JH1M62gVDND...   \n",
       "2     207396.0   0.706  https://api.spotify.com/v1/tracks/0h7Ld5CvgzaU...   \n",
       "3     279000.0   0.597  https://api.spotify.com/v1/tracks/4S1bYWrLOC8s...   \n",
       "4     218773.0   0.380  https://api.spotify.com/v1/tracks/758mQT4zzlvB...   \n",
       "\n",
       "                       id  instrumentalness   key  ...    tempo  \\\n",
       "0  0UATU9OJxh4m3fwDljdGZn          0.000027   1.0  ...   94.042   \n",
       "1  4JH1M62gVDNDhDAUiQB3Qv          0.000052  11.0  ...  185.912   \n",
       "2  0h7Ld5CvgzaUN1zA3tdyPq          0.000000   1.0  ...   81.220   \n",
       "3  4S1bYWrLOC8smuy8kJzxKQ          0.000023   9.0  ...  121.051   \n",
       "4  758mQT4zzlvBhy9PvNePwC          0.000000   7.0  ...   92.050   \n",
       "\n",
       "   time_signature                                         track_href  \\\n",
       "0             4.0  https://api.spotify.com/v1/tracks/0UATU9OJxh4m...   \n",
       "1             3.0  https://api.spotify.com/v1/tracks/4JH1M62gVDND...   \n",
       "2             4.0  https://api.spotify.com/v1/tracks/0h7Ld5CvgzaU...   \n",
       "3             4.0  https://api.spotify.com/v1/tracks/4S1bYWrLOC8s...   \n",
       "4             4.0  https://api.spotify.com/v1/tracks/758mQT4zzlvB...   \n",
       "\n",
       "                      uri valence release_date          artists_name  \\\n",
       "0  0UATU9OJxh4m3fwDljdGZn   0.236   2018-09-28                Evalyn   \n",
       "1  4JH1M62gVDNDhDAUiQB3Qv   0.289   2001-08-21           Café Tacvba   \n",
       "2  0h7Ld5CvgzaUN1zA3tdyPq   0.543   2019-01-25          Dawn Richard   \n",
       "3  4S1bYWrLOC8smuy8kJzxKQ   0.466   1995-09-12          Ricky Martin   \n",
       "4  758mQT4zzlvBhy9PvNePwC   0.455   1991-09-24  A Tribe Called Quest   \n",
       "\n",
       "                                              genres  release_year  \\\n",
       "0  [electropop, indie electro-pop, indie poptimis...          2018   \n",
       "1  [latin, latin alternative, latin rock, mexican...          2001   \n",
       "2  [alternative r&b, deep pop r&b, escape room, h...          2019   \n",
       "3  [dance pop, latin, latin pop, mexican pop, pop...          1995   \n",
       "4  [alternative hip hop, conscious hip hop, east ...          1991   \n",
       "\n",
       "                                    song_artist  \n",
       "0                    Creme de la creme - Evalyn  \n",
       "1              La muerte chiquita - Café Tacvba  \n",
       "2                   we, diamonds - Dawn Richard  \n",
       "3  Te Extraño, Te Olvido, Te Amo - Ricky Martin  \n",
       "4                 Butter - A Tribe Called Quest  \n",
       "\n",
       "[5 rows x 29 columns]"
      ]
     },
     "execution_count": 20,
     "metadata": {},
     "output_type": "execute_result"
    }
   ],
   "source": [
    "filtered_track_df.head(5)"
   ]
  },
  {
   "cell_type": "code",
   "execution_count": 12,
   "metadata": {},
   "outputs": [
    {
     "data": {
      "text/plain": [
       "(11047, 29)"
      ]
     },
     "execution_count": 12,
     "metadata": {},
     "output_type": "execute_result"
    }
   ],
   "source": [
    "filtered_track_df['song_artist'] = filtered_track_df['name'] + ' - ' + filtered_track_df['artists_name']\n",
    "\n",
    "filtered_track_df.shape"
   ]
  },
  {
   "cell_type": "code",
   "execution_count": 13,
   "metadata": {},
   "outputs": [
    {
     "name": "stdout",
     "output_type": "stream",
     "text": [
      "9764 2054\n"
     ]
    }
   ],
   "source": [
    "song_list = filtered_track_df['song_artist'].unique().tolist()\n",
    "artist_list = filtered_track_df['artists_name'].unique().tolist()\n",
    "print(len(song_list) ,len(artist_list))\n",
    "\n",
    "song_list = song_list + artist_list\n",
    "#pickle.dump(song_list, open('song_list.pkl','wb'))"
   ]
  },
  {
   "cell_type": "markdown",
   "metadata": {},
   "source": []
  },
  {
   "cell_type": "code",
   "execution_count": 14,
   "metadata": {},
   "outputs": [],
   "source": [
    "filtered_track_df.loc[filtered_track_df['song_artist'].duplicated()]\n",
    "test = filtered_track_df\n"
   ]
  },
  {
   "cell_type": "code",
   "execution_count": 15,
   "metadata": {},
   "outputs": [],
   "source": [
    "import numpy as np\n",
    "drop_values = np.where(filtered_track_df['song_artist'].duplicated().tolist())#filtered_track_df.loc[filtered_track_df['song_artist'].duplicated()]\n",
    "\n",
    "test = test.drop(i for i in drop_values[0])"
   ]
  },
  {
   "cell_type": "markdown",
   "metadata": {},
   "source": []
  },
  {
   "cell_type": "code",
   "execution_count": 16,
   "metadata": {},
   "outputs": [],
   "source": [
    "#dropping duplicates\n",
    "filtered_track_df = filtered_track_df.drop(i for i in drop_values[0])"
   ]
  },
  {
   "cell_type": "code",
   "execution_count": 17,
   "metadata": {},
   "outputs": [],
   "source": [
    "#filtered_track_df.reset_index(drop=False, inplace=True)\n",
    "#filtered_track_df.drop(columns=['index'],inplace=True)                # } ALL EXECUTED\n",
    "#pickle.dump(filtered_track_df, open(\"filtered_track_df.pkl\", \"wb\"))"
   ]
  },
  {
   "cell_type": "code",
   "execution_count": null,
   "metadata": {},
   "outputs": [],
   "source": []
  },
  {
   "cell_type": "code",
   "execution_count": null,
   "metadata": {},
   "outputs": [],
   "source": [
    "\n"
   ]
  },
  {
   "cell_type": "code",
   "execution_count": null,
   "metadata": {},
   "outputs": [],
   "source": []
  },
  {
   "cell_type": "code",
   "execution_count": null,
   "metadata": {},
   "outputs": [],
   "source": []
  },
  {
   "cell_type": "code",
   "execution_count": null,
   "metadata": {},
   "outputs": [],
   "source": []
  }
 ],
 "metadata": {
  "interpreter": {
   "hash": "b89b5cfaba6639976dc87ff2fec6d58faec662063367e2c229c520fe71072417"
  },
  "kernelspec": {
   "display_name": "Python 3.10.2 64-bit",
   "language": "python",
   "name": "python3"
  },
  "language_info": {
   "codemirror_mode": {
    "name": "ipython",
    "version": 3
   },
   "file_extension": ".py",
   "mimetype": "text/x-python",
   "name": "python",
   "nbconvert_exporter": "python",
   "pygments_lexer": "ipython3",
   "version": "3.10.2"
  },
  "orig_nbformat": 4
 },
 "nbformat": 4,
 "nbformat_minor": 2
}
